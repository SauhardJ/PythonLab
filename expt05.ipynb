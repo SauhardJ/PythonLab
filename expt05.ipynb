{
 "cells": [
  {
   "cell_type": "markdown",
   "id": "6a427a71-bdd0-4d02-8de6-9c523d0e1953",
   "metadata": {},
   "source": [
    "### Stack"
   ]
  },
  {
   "cell_type": "code",
   "execution_count": 17,
   "id": "c1839c55-1734-49ed-953b-1946ec974489",
   "metadata": {},
   "outputs": [
    {
     "name": "stdout",
     "output_type": "stream",
     "text": [
      "5\n"
     ]
    }
   ],
   "source": [
    "class StackDepth:\n",
    "    def maximumDepth(self, stringInput: str) -> int:\n",
    "        max_depth = 0\n",
    "        current_depth = 0\n",
    "        \n",
    "        for char in stringInput:\n",
    "            if char == '(':\n",
    "                current_depth += 1\n",
    "                max_depth = max(max_depth, current_depth)\n",
    "            elif char == ')':\n",
    "                current_depth -= 1\n",
    "        \n",
    "        return max_depth\n",
    "\n",
    "stack_depth = StackDepth()\n",
    "result = stack_depth.maximumDepth(\"(40+(24*38)+((84)/41+(55+(5*6-(45*9))+51\")\n",
    "print(result)\n"
   ]
  },
  {
   "cell_type": "code",
   "execution_count": null,
   "id": "52957913-c4ff-417e-8cbd-3c03573d3ec3",
   "metadata": {},
   "outputs": [],
   "source": []
  }
 ],
 "metadata": {
  "kernelspec": {
   "display_name": "Python 3 (ipykernel)",
   "language": "python",
   "name": "python3"
  },
  "language_info": {
   "codemirror_mode": {
    "name": "ipython",
    "version": 3
   },
   "file_extension": ".py",
   "mimetype": "text/x-python",
   "name": "python",
   "nbconvert_exporter": "python",
   "pygments_lexer": "ipython3",
   "version": "3.12.7"
  }
 },
 "nbformat": 4,
 "nbformat_minor": 5
}
