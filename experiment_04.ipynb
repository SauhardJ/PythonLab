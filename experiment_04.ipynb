{
 "cells": [
  {
   "cell_type": "code",
   "execution_count": 1,
   "id": "ff19bc1a-9097-48e7-b1a1-7c283ace5074",
   "metadata": {},
   "outputs": [],
   "source": [
    "from contextlib import contextmanager\n",
    "\n",
    "@contextmanager\n",
    "def genericFileFunction(filename, method):\n",
    "    file = open(filename, method)\n",
    "    yield file\n",
    "    file.close()\n",
    "    "
   ]
  },
  {
   "cell_type": "code",
   "execution_count": 2,
   "id": "8de8b1a3-3457-422d-bc1e-de079eb827d6",
   "metadata": {},
   "outputs": [],
   "source": [
    "if __name__ == '__main__':\n",
    "    file_name = \"sample04.txt\""
   ]
  },
  {
   "cell_type": "code",
   "execution_count": 3,
   "id": "ab45ea72-a811-494c-a62c-2570610947cd",
   "metadata": {},
   "outputs": [],
   "source": [
    "with genericFileFunction(file_name, \"w\") as file:\n",
    "        file.write(\"hi my name is sauhard\")"
   ]
  },
  {
   "cell_type": "code",
   "execution_count": 7,
   "id": "c27e838b-437b-4c13-b6f5-73c3cfebd474",
   "metadata": {},
   "outputs": [
    {
     "name": "stdout",
     "output_type": "stream",
     "text": [
      "File after writing:\n",
      "hi my name is sauhard\n",
      " i am in second year engg\n"
     ]
    }
   ],
   "source": [
    "with genericFileFunction(file_name, \"r\") as file:\n",
    "        print(\"File after writing:\")\n",
    "        print(file.read())"
   ]
  },
  {
   "cell_type": "code",
   "execution_count": 5,
   "id": "3f7bed54-d26e-4cff-92bb-d39ce91e3781",
   "metadata": {},
   "outputs": [],
   "source": [
    "with genericFileFunction(file_name, \"a\") as file:\n",
    "        file.write(\"\\n i am in second year engg\")"
   ]
  },
  {
   "cell_type": "code",
   "execution_count": 6,
   "id": "715bdbf2-c0f0-4395-82c9-81110003ff0c",
   "metadata": {},
   "outputs": [
    {
     "name": "stdout",
     "output_type": "stream",
     "text": [
      "\n",
      "File after appending:\n",
      "hi my name is sauhard\n",
      " i am in second year engg\n"
     ]
    }
   ],
   "source": [
    " with genericFileFunction(file_name, \"r\") as file:\n",
    "        print(\"\\nFile after appending:\")\n",
    "        print(file.read())\n"
   ]
  },
  {
   "cell_type": "code",
   "execution_count": 8,
   "id": "1fe25fbd-eac3-44ea-9500-63a23a060d32",
   "metadata": {},
   "outputs": [
    {
     "name": "stdout",
     "output_type": "stream",
     "text": [
      "File after writing:\n",
      "hi my name is sauhard\n",
      " i am in second year engg\n"
     ]
    }
   ],
   "source": [
    "with genericFileFunction(file_name, \"r\") as file:\n",
    "        print(\"File after writing:\")\n",
    "        print(file.read())"
   ]
  },
  {
   "cell_type": "code",
   "execution_count": null,
   "id": "6ca0ac8c-aa67-43ea-a574-30d85d69ac6a",
   "metadata": {},
   "outputs": [],
   "source": []
  }
 ],
 "metadata": {
  "kernelspec": {
   "display_name": "Python 3 (ipykernel)",
   "language": "python",
   "name": "python3"
  },
  "language_info": {
   "codemirror_mode": {
    "name": "ipython",
    "version": 3
   },
   "file_extension": ".py",
   "mimetype": "text/x-python",
   "name": "python",
   "nbconvert_exporter": "python",
   "pygments_lexer": "ipython3",
   "version": "3.12.7"
  }
 },
 "nbformat": 4,
 "nbformat_minor": 5
}
