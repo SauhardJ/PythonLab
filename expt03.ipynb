{
 "cells": [
  {
   "cell_type": "code",
   "execution_count": 1,
   "id": "97aefb8c-3dc5-4500-a337-da17bc635b90",
   "metadata": {},
   "outputs": [
    {
     "name": "stdout",
     "output_type": "stream",
     "text": [
      "hi\n"
     ]
    }
   ],
   "source": [
    "print(\"hi\")\n"
   ]
  },
  {
   "cell_type": "code",
   "execution_count": 16,
   "id": "210cc9e8-5100-436c-acc5-2824fbb3bf4b",
   "metadata": {},
   "outputs": [
    {
     "name": "stdin",
     "output_type": "stream",
     "text": [
      "Enter your string  ababababbbb\n"
     ]
    },
    {
     "name": "stdout",
     "output_type": "stream",
     "text": [
      "False\n"
     ]
    }
   ],
   "source": [
    "class ConditionalStatements:\n",
    "    def checkString(self, s: str) -> bool:\n",
    "        decision = False\n",
    "        \n",
    "        for letter in s:\n",
    "            letterA = False\n",
    "            letterB = False\n",
    "            \n",
    "            if letter == 'b':\n",
    "                letterB = True\n",
    "                decision = True\n",
    "            elif letter == 'a':\n",
    "                letterA = True\n",
    "            \n",
    "            if letterA and decision:\n",
    "                return False\n",
    "        \n",
    "        return True\n",
    "\n",
    "conditional = ConditionalStatements()\n",
    "\n",
    "x = input(\"Enter your string \")\n",
    "\n",
    "result = conditional.checkString(x)\n",
    "\n",
    "print(result)\n"
   ]
  },
  {
   "cell_type": "code",
   "execution_count": null,
   "id": "ce3e9b67-91b2-4390-a973-9ad7d22ab65e",
   "metadata": {},
   "outputs": [],
   "source": []
  }
 ],
 "metadata": {
  "kernelspec": {
   "display_name": "Python 3 (ipykernel)",
   "language": "python",
   "name": "python3"
  },
  "language_info": {
   "codemirror_mode": {
    "name": "ipython",
    "version": 3
   },
   "file_extension": ".py",
   "mimetype": "text/x-python",
   "name": "python",
   "nbconvert_exporter": "python",
   "pygments_lexer": "ipython3",
   "version": "3.13.1"
  }
 },
 "nbformat": 4,
 "nbformat_minor": 5
}
